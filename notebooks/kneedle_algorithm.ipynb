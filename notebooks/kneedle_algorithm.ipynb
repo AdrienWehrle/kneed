{
 "cells": [
  {
   "cell_type": "markdown",
   "metadata": {},
   "source": [
    "# Python implementation of the Kneedle algorithm\n",
    "Finding a “Kneedle” in a Haystack: Detecting Knee Points in System Behavior  \n",
    "Ville Satopa, Jeannie Albrecht, David Irwin, and Barath Raghavan  \n",
    "https://www1.icsi.berkeley.edu/~barath/papers/kneedle-simplex11.pdf"
   ]
  },
  {
   "cell_type": "code",
   "execution_count": 1,
   "metadata": {
    "collapsed": false
   },
   "outputs": [],
   "source": [
    "import numpy as np\n",
    "import scipy\n",
    "\n",
    "import matplotlib.pyplot as plt\n",
    "%matplotlib inline"
   ]
  },
  {
   "cell_type": "markdown",
   "metadata": {},
   "source": [
    "# Finding the knee from figure 2 from the paper"
   ]
  },
  {
   "cell_type": "code",
   "execution_count": 2,
   "metadata": {
    "collapsed": true
   },
   "outputs": [],
   "source": [
    "def figure2():\n",
    "    x = np.linspace(0.0, 1, 10)\n",
    "    with np.errstate(divide='ignore'):\n",
    "        return x,np.true_divide(-1, x + 0.1) + 5"
   ]
  },
  {
   "cell_type": "markdown",
   "metadata": {},
   "source": [
    "# Step 0:  Raw input"
   ]
  },
  {
   "cell_type": "code",
   "execution_count": 3,
   "metadata": {
    "collapsed": false
   },
   "outputs": [],
   "source": [
    "x,y = figure2()"
   ]
  },
  {
   "cell_type": "code",
   "execution_count": 4,
   "metadata": {
    "collapsed": false
   },
   "outputs": [],
   "source": [
    "invert = False\n",
    "if invert:\n",
    "    x = [max(x) - x_ for x_ in x]\n",
    "    y = [max(y) - y_ for y_ in y]"
   ]
  },
  {
   "cell_type": "code",
   "execution_count": 5,
   "metadata": {
    "collapsed": false
   },
   "outputs": [],
   "source": [
    "if not np.array_equal(np.array(x), np.sort(x)):\n",
    "    raise ValueError('x needs to be sorted')"
   ]
  },
  {
   "cell_type": "markdown",
   "metadata": {},
   "source": [
    "# Step 1: Fit a spline"
   ]
  },
  {
   "cell_type": "code",
   "execution_count": 6,
   "metadata": {
    "collapsed": true
   },
   "outputs": [],
   "source": [
    "from scipy.interpolate import interp1d,UnivariateSpline,InterpolatedUnivariateSpline"
   ]
  },
  {
   "cell_type": "code",
   "execution_count": 7,
   "metadata": {
    "collapsed": false
   },
   "outputs": [],
   "source": [
    "N = len(x)"
   ]
  },
  {
   "cell_type": "code",
   "execution_count": 8,
   "metadata": {
    "collapsed": false
   },
   "outputs": [],
   "source": [
    "# Ds = the finite set of x- and y-values that define a smooth curve, \n",
    "# one that has been fit to a smoothing spline.\n",
    "uspline = interp1d(x,y)\n",
    "\n",
    "Ds_x = np.linspace(np.min(x), np.max(x), N)\n",
    "Ds_y = uspline(Ds_x)"
   ]
  },
  {
   "cell_type": "code",
   "execution_count": 9,
   "metadata": {
    "collapsed": false
   },
   "outputs": [
    {
     "data": {
      "image/png": "[encoded data removed]",
      "text/plain": [
       "<matplotlib.figure.Figure at 0x7f5bf7f9a6d8>"
      ]
     },
     "metadata": {},
     "output_type": "display_data"
    }
   ],
   "source": [
    "plt.plot(x,y);\n",
    "plt.plot(Ds_x,Ds_y);"
   ]
  },
  {
   "cell_type": "markdown",
   "metadata": {},
   "source": [
    "# Step 2: Normalize the spline"
   ]
  },
  {
   "cell_type": "code",
   "execution_count": 10,
   "metadata": {
    "collapsed": false
   },
   "outputs": [],
   "source": [
    "def normalize(a):\n",
    "    \"\"\"return the normalized input array\"\"\"\n",
    "    return (a - min(a)) / (max(a) - min(a))"
   ]
  },
  {
   "cell_type": "code",
   "execution_count": 11,
   "metadata": {
    "collapsed": false
   },
   "outputs": [],
   "source": [
    "# x and y normalized to unit square\n",
    "xsn = normalize(Ds_x)\n",
    "ysn = normalize(Ds_y)"
   ]
  },
  {
   "cell_type": "markdown",
   "metadata": {},
   "source": [
    "# Step 3: Calculate the difference curve"
   ]
  },
  {
   "cell_type": "code",
   "execution_count": 12,
   "metadata": {
    "collapsed": false
   },
   "outputs": [],
   "source": [
    "# the difference curve\n",
    "xd = xsn\n",
    "yd = ysn - xsn"
   ]
  },
  {
   "cell_type": "code",
   "execution_count": 13,
   "metadata": {
    "collapsed": false
   },
   "outputs": [
    {
     "data": {
      "image/png": "[encoded data removed]",
      "text/plain": [
       "<matplotlib.figure.Figure at 0x7f5bf7f53cc0>"
      ]
     },
     "metadata": {},
     "output_type": "display_data"
    }
   ],
   "source": [
    "plt.title(\"Normalized spline & difference curve\");\n",
    "plt.plot(xsn,ysn);\n",
    "plt.plot(xd,yd);"
   ]
  },
  {
   "cell_type": "markdown",
   "metadata": {},
   "source": [
    "# Step 4: Identify local maxima  \n",
    "of the difference curve"
   ]
  },
  {
   "cell_type": "code",
   "execution_count": 14,
   "metadata": {
    "collapsed": true
   },
   "outputs": [],
   "source": [
    "from scipy.signal import argrelextrema"
   ]
  },
  {
   "cell_type": "code",
   "execution_count": 15,
   "metadata": {
    "collapsed": false
   },
   "outputs": [],
   "source": [
    "# local maxima for knees\n",
    "xmx_idx = argrelextrema(yd, np.greater)[0]\n",
    "xmx = xd[xmx_idx]\n",
    "ymx = yd[xmx_idx]\n",
    "#Dmx = np.stack((xmx,ymx))\n",
    "\n",
    "# local minima\n",
    "xmn_idx = argrelextrema(yd, np.less)[0]\n",
    "xmn = xd[xmn_idx]\n",
    "ymn = yd[xmn_idx]"
   ]
  },
  {
   "cell_type": "code",
   "execution_count": 16,
   "metadata": {
    "collapsed": false
   },
   "outputs": [
    {
     "data": {
      "image/png": "[encoded data removed]",
      "text/plain": [
       "<matplotlib.figure.Figure at 0x7f5bc931b390>"
      ]
     },
     "metadata": {},
     "output_type": "display_data"
    }
   ],
   "source": [
    "plt.title(\"local maxima in difference curve\");\n",
    "plt.plot(xsn,ysn);\n",
    "plt.plot(xd,yd);\n",
    "plt.hlines(ymx, plt.xlim()[0], plt.xlim()[1]);"
   ]
  },
  {
   "cell_type": "markdown",
   "metadata": {},
   "source": [
    "# Step 5: Calculate thresholds"
   ]
  },
  {
   "cell_type": "code",
   "execution_count": 17,
   "metadata": {
    "collapsed": true
   },
   "outputs": [],
   "source": [
    "# Sensitivity parameter S\n",
    "# smaller values detect knees quicker\n",
    "S = 1.0"
   ]
  },
  {
   "cell_type": "code",
   "execution_count": 18,
   "metadata": {
    "collapsed": true
   },
   "outputs": [],
   "source": [
    "def threshold(ymx_i):\n",
    "    return ymx_i - (S * np.diff(xsn).mean())"
   ]
  },
  {
   "cell_type": "code",
   "execution_count": 19,
   "metadata": {
    "collapsed": false
   },
   "outputs": [
    {
     "data": {
      "text/plain": [
       "array([ 0.42528736])"
      ]
     },
     "execution_count": 19,
     "metadata": {},
     "output_type": "execute_result"
    }
   ],
   "source": [
    "Tmx = threshold(ymx)\n",
    "Tmx"
   ]
  },
  {
   "cell_type": "markdown",
   "metadata": {},
   "source": [
    "# Step 6: knee finding algorithm"
   ]
  },
  {
   "cell_type": "markdown",
   "metadata": {},
   "source": [
    "If any difference value (xdj, ydj), where j > i, drops below the threshold y = T|mxi\n",
    "for (x|mxi, y|mxi) before the\n",
    "next local maximum in the difference curve is reached,\n",
    "Kneedle declares a knee at the x-value of the corresponding\n",
    "local maximum x = x|xi.  \n",
    "**If the difference values reach\n",
    "a local minimum and starts to increase before y = T|mxi\n",
    "is reached, we reset the threshold value to 0 and wait for\n",
    "another local maximum to be reached.**"
   ]
  },
  {
   "cell_type": "code",
   "execution_count": 20,
   "metadata": {
    "collapsed": false,
    "scrolled": true
   },
   "outputs": [],
   "source": [
    "mxmx_iter = np.arange(xmx_idx[0], len(xsn))\n",
    "xmx_idx_iter = np.append(xmx_idx, len(xsn))\n",
    "\n",
    "knee_, norm_knee_, knee_x = 0.0, 0.0, None                                                                                                                                                                 \n",
    "for mxmx_i in range(len(xmx_idx_iter)):                                                                                                                                                                    \n",
    "\n",
    "    # stopping criteria for exhasuting array\n",
    "    if mxmx_i == len(xmx_idx_iter) - 1:                                                                                                                                                                    \n",
    "         break\n",
    "        \n",
    "    # indices between maxima/minima\n",
    "    idxs = ( mxmx_iter > xmx_idx_iter[mxmx_i] ) * ( mxmx_iter < xmx_idx_iter[mxmx_i+1] )\n",
    "    between_local_mx = mxmx_iter[np.where(idxs)]\n",
    "\n",
    "    for j in between_local_mx:\n",
    "        if j in xmn_idx:\n",
    "\n",
    "            # reached a minima, x indices are unique\n",
    "            # only need to check if j is a min\n",
    "            if yd[j + 1] > yd[j]:\n",
    "                Tmx[mxmx_i] = 0\n",
    "            elif yd[j + 1] <= yd[j]:\n",
    "                print('If this is a minima, how would you ever get here: {}'.format(j,knee))\n",
    "       \n",
    "        if yd[j] < Tmx[mxmx_i]:\n",
    "            if not knee_x:\n",
    "                knee_x = j\n",
    "            # declare a knee\n",
    "            knee = x[xmx_idx[mxmx_i]]"
   ]
  },
  {
   "cell_type": "code",
   "execution_count": 21,
   "metadata": {
    "collapsed": false
   },
   "outputs": [
    {
     "data": {
      "image/png": "[encoded data removed]",
      "text/plain": [
       "<matplotlib.figure.Figure at 0x7f5bc8f9d160>"
      ]
     },
     "metadata": {},
     "output_type": "display_data"
    }
   ],
   "source": [
    "plt.xticks(np.arange(0,1.1,0.1))\n",
    "plt.plot(xsn,ysn);\n",
    "plt.plot(xd,yd);\n",
    "plt.hlines(Tmx[0], plt.xlim()[0], plt.xlim()[1], colors='g', linestyles='dashed');\n",
    "plt.vlines(xmx, plt.ylim()[0], plt.ylim()[1], colors='r', linestyles='dashed');"
   ]
  },
  {
   "cell_type": "markdown",
   "metadata": {},
   "source": [
    "The vertical, red dashed line represents the x value of the knee point. The horizontal greeb dashed line represents the threshold value."
   ]
  },
  {
   "cell_type": "code",
   "execution_count": 22,
   "metadata": {
    "collapsed": false
   },
   "outputs": [
    {
     "data": {
      "text/plain": [
       "0.22222222222222221"
      ]
     },
     "execution_count": 22,
     "metadata": {},
     "output_type": "execute_result"
    }
   ],
   "source": [
    "knee"
   ]
  },
  {
   "cell_type": "code",
   "execution_count": 23,
   "metadata": {
    "collapsed": false
   },
   "outputs": [
    {
     "data": {
      "text/plain": [
       "0.55555555555555558"
      ]
     },
     "execution_count": 23,
     "metadata": {},
     "output_type": "execute_result"
    }
   ],
   "source": [
    "# normalized x value where the knee was determined\n",
    "xsn[knee_x]"
   ]
  }
 ],
 "metadata": {
  "kernelspec": {
   "display_name": "py36",
   "language": "python",
   "name": "py36"
  },
  "language_info": {
   "codemirror_mode": {
    "name": "ipython",
    "version": 3
   },
   "file_extension": ".py",
   "mimetype": "text/x-python",
   "name": "python",
   "nbconvert_exporter": "python",
   "pygments_lexer": "ipython3",
   "version": "3.6.0"
  }
 },
 "nbformat": 4,
 "nbformat_minor": 2
}
